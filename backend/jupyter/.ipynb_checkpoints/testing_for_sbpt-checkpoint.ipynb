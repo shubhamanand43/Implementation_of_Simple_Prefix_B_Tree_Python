{
 "cells": [
  {
   "cell_type": "code",
   "execution_count": 38,
   "metadata": {},
   "outputs": [],
   "source": [
    "# df = pd.read_csv(\"r1000.csv\")\n",
    "# print(df.columns)"
   ]
  },
  {
   "cell_type": "code",
   "execution_count": 18,
   "metadata": {},
   "outputs": [],
   "source": [
    "# print(df.head())"
   ]
  },
  {
   "cell_type": "code",
   "execution_count": 32,
   "metadata": {},
   "outputs": [],
   "source": [
    "# col = ['User_ID', 'Emp ID', 'Name Prefix', 'First Name', 'Middle Initial',\n",
    "#        'Last Name', 'Gender', 'E Mail', \"Father's Name\", \"Mother's Name\", \n",
    "#        'Age in Yrs','Date of Joining', 'Age in Company (Years)', \n",
    "#        'Salary','SSN', 'Phone No', 'City', 'State', 'Zip']\n",
    "# nd = df[col]\n",
    "# nd.head()"
   ]
  },
  {
   "cell_type": "code",
   "execution_count": 33,
   "metadata": {},
   "outputs": [],
   "source": [
    "# nd.to_csv(\"test1000.csv\", index = False)"
   ]
  },
  {
   "cell_type": "code",
   "execution_count": 19,
   "metadata": {},
   "outputs": [],
   "source": [
    "# nf = pd.read_csv(\"test1000.csv\")\n",
    "# nf.head(5)"
   ]
  },
  {
   "cell_type": "code",
   "execution_count": null,
   "metadata": {},
   "outputs": [],
   "source": [
    "# bo.to_csv(\"mod_1000.csv\", index = False)\n",
    "# os.rename('guru99.txt','career.guru99.txt')\n",
    "# bo = df.sort_values(by=['uid'])\n",
    "# string.replace(old, new, count)"
   ]
  },
  {
   "cell_type": "code",
   "execution_count": 52,
   "metadata": {},
   "outputs": [],
   "source": [
    "# col = ['User_ID', 'Emp ID', 'First Name', 'Middle Initial',\n",
    "#        'Last Name', 'Gender']\n",
    "# nd = df[col]\n",
    "# nd = pd.read_csv(\"test_reduced.csv\")\n",
    "# nd.to_csv(\"test.csv\", index = False)\n",
    "# nd.head()"
   ]
  },
  {
   "cell_type": "code",
   "execution_count": 55,
   "metadata": {},
   "outputs": [],
   "source": [
    "# file = \"test.csv\"\n",
    "# df = pd.read_csv(file)"
   ]
  },
  {
   "cell_type": "code",
   "execution_count": null,
   "metadata": {},
   "outputs": [],
   "source": [
    "# delete an row tactics\n",
    "# df = df[df.line_race != 0]"
   ]
  },
  {
   "cell_type": "code",
   "execution_count": 60,
   "metadata": {},
   "outputs": [],
   "source": [
    "# os.rename('test.csv','test.txt') #csv --> txt\n",
    "# os.rename('test.txt','test.csv')"
   ]
  },
  {
   "cell_type": "code",
   "execution_count": 68,
   "metadata": {
    "scrolled": true
   },
   "outputs": [
    {
     "name": "stdout",
     "output_type": "stream",
     "text": [
      "Geeks for Geeks Geeks Geeks Geeks\n",
      "GeeksforGeeks for GeeksforGeeks GeeksforGeeks geeks geeks\n"
     ]
    }
   ],
   "source": [
    "string = \"geeks for geeks geeks geeks geeks\" \n",
    "   \n",
    "# Prints the string by replacing geeks by Geeks  \n",
    "print(string.replace(\"geeks\", \"Geeks\"))  \n",
    "  \n",
    "# Prints the string by replacing only 3 occurence of Geeks   \n",
    "print(string.replace(\"geeks\", \"GeeksforGeeks\", 3))"
   ]
  },
  {
   "cell_type": "code",
   "execution_count": 51,
   "metadata": {},
   "outputs": [],
   "source": [
    "# file = \"new1000.csv\"\n",
    "# fr = open(file)\n",
    "# st = fr.read()\n",
    "# sn = st.replace(\",\",\"|\")\n",
    "# fr.close()\n",
    "# fw = open(\"new.txt\",\"w\")\n",
    "# fw.write(sn)\n",
    "# fw.close()"
   ]
  },
  {
   "cell_type": "code",
   "execution_count": null,
   "metadata": {},
   "outputs": [],
   "source": [
    "    def csvToTxt(self, file):\n",
    "        fr = open(file)\n",
    "        st = fr.read()\n",
    "        sn = st.replace(\",\",\"|\")\n",
    "        fr.close()\n",
    "        fw = open(\"temp.csv\",\"w\")\n",
    "        fw.write(sn)\n",
    "        fw.close()\n",
    "        os.remove(file)\n",
    "        os.rename(\"temp.csv\",file)\n",
    "        file = file.split(\".\")[0] + \".txt\"\n",
    "        os.rename(\"test.csv\",file)\n",
    "\n",
    "    # Pipe to Comma and txt to csv ...\n",
    "    def txtToCsv(self, file):\n",
    "        fr = open(file)\n",
    "        st = fr.read()\n",
    "        sn = st.replace(\"|\",\",\")\n",
    "        fr.close()\n",
    "        fw = open(\"temp.txt\",\"w\")\n",
    "        fw.write(sn)\n",
    "        fw.close()\n",
    "        os.remove(file)\n",
    "        os.rename(\"temp.txt\",file)\n",
    "        file = file.split(\".\")[0] + \".csv\"\n",
    "        os.rename(\"test.txt\",file)"
   ]
  },
  {
   "cell_type": "code",
   "execution_count": 11,
   "metadata": {},
   "outputs": [
    {
     "name": "stdout",
     "output_type": "stream",
     "text": [
      "<class 'str'>\n"
     ]
    }
   ],
   "source": [
    "f = \"fakswwe.txt\"\n",
    "f = f.split(\".\")[0]\n",
    "print(type(f))"
   ]
  },
  {
   "cell_type": "code",
   "execution_count": 12,
   "metadata": {},
   "outputs": [],
   "source": [
    "st = \"fndssfdj\"\n",
    "fd = open(\"text.txt\",\"a\")\n",
    "fd.write(st)\n",
    "fd.close()\n"
   ]
  },
  {
   "cell_type": "code",
   "execution_count": null,
   "metadata": {},
   "outputs": [],
   "source": []
  },
  {
   "cell_type": "code",
   "execution_count": 67,
   "metadata": {},
   "outputs": [],
   "source": [
    "# fd = open(\"test.csv\")\n",
    "# ld = fd.read().split(\"\\n\")\n",
    "# print(ld)\n",
    "# lu = [x.split(\",\")[0] for x in ld]\n",
    "# print(lu)\n",
    "# fd.close()"
   ]
  },
  {
   "cell_type": "code",
   "execution_count": null,
   "metadata": {},
   "outputs": [],
   "source": [
    "# Adding a Record CODE ...\n",
    "import pandas as pd\n",
    "import os"
   ]
  },
  {
   "cell_type": "code",
   "execution_count": null,
   "metadata": {},
   "outputs": [],
   "source": [
    "# Modifing a Record CODE ...\n",
    "import pandas as pd\n",
    "import os"
   ]
  },
  {
   "cell_type": "code",
   "execution_count": null,
   "metadata": {},
   "outputs": [],
   "source": [
    "# Deleting a Record CODE ...\n",
    "import pandas as pd\n",
    "import os"
   ]
  },
  {
   "cell_type": "code",
   "execution_count": 27,
   "metadata": {},
   "outputs": [
    {
     "name": "stdout",
     "output_type": "stream",
     "text": [
      "#814390\n"
     ]
    }
   ],
   "source": [
    "import random\n",
    "r = lambda: random.randint(0,15)\n",
    "color = \"#\"+ str(hex(r())[2:]) + str(hex(r())[2:]) + str(hex(r())[2:]) + str(hex(r())[2:]) + str(hex(r())[2:]) + str(hex(r())[2:])\n",
    "print(color)"
   ]
  },
  {
   "cell_type": "code",
   "execution_count": 50,
   "metadata": {},
   "outputs": [
    {
     "data": {
      "text/plain": [
       "'0xf'"
      ]
     },
     "execution_count": 50,
     "metadata": {},
     "output_type": "execute_result"
    }
   ],
   "source": [
    "import random\n",
    "p = random.randint(12,15)\n",
    "hex(p)\n"
   ]
  }
 ],
 "metadata": {
  "kernelspec": {
   "display_name": "Python 3",
   "language": "python",
   "name": "python3"
  },
  "language_info": {
   "codemirror_mode": {
    "name": "ipython",
    "version": 3
   },
   "file_extension": ".py",
   "mimetype": "text/x-python",
   "name": "python",
   "nbconvert_exporter": "python",
   "pygments_lexer": "ipython3",
   "version": "3.7.3"
  }
 },
 "nbformat": 4,
 "nbformat_minor": 2
}
